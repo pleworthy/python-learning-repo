{
 "cells": [
  {
   "cell_type": "code",
   "execution_count": 3,
   "metadata": {},
   "outputs": [
    {
     "name": "stdout",
     "output_type": "stream",
     "text": [
      "5\n"
     ]
    }
   ],
   "source": [
    "num_1 = 5 # integer - int\n",
    "num_2 = 5.0 # float - float\n",
    "num_3 = \"5\" # string - str\n",
    "\n",
    "print(num_1)"
   ]
  },
  {
   "cell_type": "code",
   "execution_count": 4,
   "metadata": {},
   "outputs": [
    {
     "name": "stdout",
     "output_type": "stream",
     "text": [
      "15\n"
     ]
    }
   ],
   "source": [
    "'''\n",
    "This is how to \n",
    "do multi line\n",
    "break with 3\n",
    "type() - checks the type of data\n",
    "print() - prints the data\n",
    "'''\n",
    "\n",
    "x = 5\n",
    "y = 10\n",
    "z = x + y \n",
    "\n",
    "print(z)"
   ]
  },
  {
   "cell_type": "code",
   "execution_count": 8,
   "metadata": {},
   "outputs": [
    {
     "name": "stdout",
     "output_type": "stream",
     "text": [
      "12.56\n"
     ]
    }
   ],
   "source": [
    "'''\n",
    "In this cell, initialise two numeric variables and find their product\n",
    "using the * operator for multiplication and assign this to a new variable.\n",
    "Print the new variable\n",
    " \n",
    "The radius of a circle is 2, assume that Pi is 3.14. Assign both of these\n",
    "to suitably named variables and find the area of the circle.\n",
    "We can find the area of a circle by finding the product of Pi with the radius squared.\n",
    "You probably don't know how to square a number in Python yet, so use Google to work it out!\n",
    "'''\n",
    "\n",
    "r = 2\n",
    "p = 3.14\n",
    "a = p * (r ** 2)\n",
    "print(a)"
   ]
  },
  {
   "cell_type": "code",
   "execution_count": 15,
   "metadata": {},
   "outputs": [
    {
     "name": "stdout",
     "output_type": "stream",
     "text": [
      "Will likes running\n",
      "My name is Will, and I like running\n"
     ]
    }
   ],
   "source": [
    "name = \"Will\"\n",
    "hobby = \"running\"\n",
    "phrase_1 = name + \" likes \" + hobby\n",
    "print(phrase_1)\n",
    "\n",
    "phrase_2 = f\"My name is {name}, and I like {hobby}\"\n",
    "print(phrase_2)"
   ]
  },
  {
   "cell_type": "code",
   "execution_count": 23,
   "metadata": {},
   "outputs": [
    {
     "name": "stdout",
     "output_type": "stream",
     "text": [
      "Pete is a Intelligence Analyst\n"
     ]
    }
   ],
   "source": [
    "'''\n",
    "In this cell, initialise two appropriately named variables, one for your name and one for your job title.\n",
    "Next, combine them in an f string, assigned to a different, appropriately named variable.\n",
    "Finally, print the f string.\n",
    " \n",
    "Make a variable for a string and one for a number,\n",
    "Try and add them (not inside an f string) and see what happens\n",
    "'''\n",
    "\n",
    "name = \"Pete\"\n",
    "job = \"Intelligence Analyst\"\n",
    "name_job = f\"{name} is a {job}\"\n",
    "print(name_job)\n",
    "\n",
    "\n"
   ]
  },
  {
   "cell_type": "code",
   "execution_count": 32,
   "metadata": {},
   "outputs": [
    {
     "name": "stdout",
     "output_type": "stream",
     "text": [
      "98765432\n"
     ]
    }
   ],
   "source": [
    "num_string = \"123456789\"\n",
    "sub_string = num_string[1]\n",
    "#start is inclusive\n",
    "#end is exclusive\n",
    "#use minus to count from the right hand side\n",
    "sub_string = num_string[1:8]\n",
    "#starting point, end point, step\n",
    "sub_string = num_string[-1:0:-1]\n",
    "\n",
    "\n",
    "print(sub_string)"
   ]
  },
  {
   "cell_type": "code",
   "execution_count": 33,
   "metadata": {},
   "outputs": [
    {
     "name": "stdout",
     "output_type": "stream",
     "text": [
      "CLAs\n"
     ]
    }
   ],
   "source": [
    "filename = \"CLAs.csv\"\n",
    "\n",
    "filename = filename[:-4]\n",
    "\n",
    "print(filename)"
   ]
  }
 ],
 "metadata": {
  "kernelspec": {
   "display_name": "Python 3",
   "language": "python",
   "name": "python3"
  },
  "language_info": {
   "codemirror_mode": {
    "name": "ipython",
    "version": 3
   },
   "file_extension": ".py",
   "mimetype": "text/x-python",
   "name": "python",
   "nbconvert_exporter": "python",
   "pygments_lexer": "ipython3",
   "version": "3.10.13"
  }
 },
 "nbformat": 4,
 "nbformat_minor": 2
}
