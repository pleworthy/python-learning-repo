{
 "cells": [
  {
   "cell_type": "code",
   "execution_count": 12,
   "metadata": {},
   "outputs": [
    {
     "name": "stdout",
     "output_type": "stream",
     "text": [
      "dog \n",
      "racoon\n",
      "cat\n"
     ]
    }
   ],
   "source": [
    "slice_this_phrase = 'dog cat racoon'\n",
    "dog = slice_this_phrase[:-10]\n",
    "print(dog)\n",
    "racoon = slice_this_phrase[-6:]\n",
    "print(racoon)\n",
    "cat = slice_this_phrase[4:7]\n",
    "print(cat)"
   ]
  },
  {
   "cell_type": "code",
   "execution_count": 18,
   "metadata": {},
   "outputs": [
    {
     "name": "stdout",
     "output_type": "stream",
     "text": [
      "<class 'list'>\n",
      "['red', 'blue', 'green']\n",
      "['red', 'blue', 'green', 'purple']\n",
      "['red', 'blue', 'green', 'purple', ['turquoise', 'teal']]\n",
      "['red', 'blue', 'green', 'purple', ['turquoise', 'teal'], 'turquoise', 'teal']\n",
      "['red', 'blue', 'green', 'purple', ['turquoise', 'teal'], 'turquoise']\n"
     ]
    }
   ],
   "source": [
    "list_1 = [] \n",
    "print(type(list_1))\n",
    "\n",
    "colours_list = ['red', 'blue', 'green']\n",
    "print(colours_list)\n",
    "\n",
    "colours_list.append('purple') \n",
    "print(colours_list)\n",
    "\n",
    "extra_colours = ['turquoise', 'teal']\n",
    "colours_list.append(extra_colours)\n",
    "# You can see here it's appended the whole list extra_colours as one item in the list\n",
    "print(colours_list) \n",
    "\n",
    "# Instead, we can extend a to have each element of a list as a new element in another list with the .extend() method\n",
    "colours_list.extend(extra_colours)\n",
    "print(colours_list)\n",
    "\n",
    "# We can remove list elements using.remove\n",
    "colours_list.remove('teal')\n",
    "print(colours_list)"
   ]
  },
  {
   "cell_type": "code",
   "execution_count": 24,
   "metadata": {},
   "outputs": [
    {
     "name": "stdout",
     "output_type": "stream",
     "text": [
      "[1, 2, 3, 4, 5, 6]\n",
      "[6, 5, 4, 3, 2, 1]\n",
      "[2, 3, 3, 4, 5]\n",
      "['amber', 'blue', 'green', 'red']\n",
      "['red', 'green', 'blue', 'amber']\n"
     ]
    }
   ],
   "source": [
    "numbers_list = [2,3,4,5,1,6]\n",
    "# we can sort lists too, here using a method\n",
    "numbers_list.sort() \n",
    "print(numbers_list) \n",
    "numbers_list.sort(reverse=True)\n",
    "print(numbers_list) \n",
    "\n",
    "# Here we sort a list using a function and returning it to a new variable\n",
    "sorted_list = sorted([3,2,3,4,5]) \n",
    "print(sorted_list)\n",
    "\n",
    "colours_list = ['red', 'blue', 'green', 'amber']\n",
    "sorted_colours = sorted(colours_list, key=str.lower)\n",
    "print(sorted_colours)\n",
    "reverse_colours = sorted(colours_list, reverse=True)\n",
    "print(reverse_colours)"
   ]
  },
  {
   "cell_type": "code",
   "execution_count": 26,
   "metadata": {},
   "outputs": [
    {
     "name": "stdout",
     "output_type": "stream",
     "text": [
      "{'Will': 'teal', 'Andy': ['Purple', 'Green', 'Azure'], 'Annie': {'Mondays': 'Red', 'Sundays': 'Orange', 'Other days': 'Black'}}\n",
      "['Will', 'Andy', 'Annie']\n",
      "dict_items([('Will', 'teal'), ('Andy', ['Purple', 'Green', 'Azure']), ('Annie', {'Mondays': 'Red', 'Sundays': 'Orange', 'Other days': 'Black'})])\n",
      "dict_keys(['Will', 'Andy', 'Annie'])\n",
      "dict_values(['teal', ['Purple', 'Green', 'Azure'], {'Mondays': 'Red', 'Sundays': 'Orange', 'Other days': 'Black'}])\n",
      "teal\n",
      "{'Will': 'teal', 'Andy': ['Purple', 'Green', 'Azure'], 'Annie': {'Mondays': 'Red', 'Sundays': 'Orange', 'Other days': 'Black'}, 'Naiomi': 'Yellow'}\n",
      "False\n"
     ]
    }
   ],
   "source": [
    "favourite_colours = {'Will':'teal',\n",
    "                     'Andy':['Purple', 'Green', 'Azure'],\n",
    "                     'Annie':{'Mondays':'Red',\n",
    "                              'Sundays':'Orange',\n",
    "                              'Other days':'Black'}}\n",
    "# Here you can see I've stored strongs, lists, and even entire dictionaries inside strings                              \n",
    "print(favourite_colours) \n",
    "print(list(favourite_colours)) # list(d) will print the keys, in order from a dictionary\n",
    "print(favourite_colours.items()) # Prints all key:value pairs\n",
    "print(favourite_colours.keys()) # Prints all keys\n",
    "print(favourite_colours.values()) # Prints all values\n",
    "\n",
    "# We can access the values associated with a key by passing it between square brackets after the dictionary's name\n",
    "print(favourite_colours['Will']) \n",
    "\n",
    "# We can also add/update key value pairs in a similar way\n",
    "favourite_colours['Naiomi'] = 'Yellow' \n",
    "print(favourite_colours)\n",
    "\n",
    "# We can check if a key is in a dict or not like so\n",
    "print('Mo' in favourite_colours)"
   ]
  }
 ],
 "metadata": {
  "kernelspec": {
   "display_name": "Python 3",
   "language": "python",
   "name": "python3"
  },
  "language_info": {
   "codemirror_mode": {
    "name": "ipython",
    "version": 3
   },
   "file_extension": ".py",
   "mimetype": "text/x-python",
   "name": "python",
   "nbconvert_exporter": "python",
   "pygments_lexer": "ipython3",
   "version": "3.10.13"
  }
 },
 "nbformat": 4,
 "nbformat_minor": 2
}
